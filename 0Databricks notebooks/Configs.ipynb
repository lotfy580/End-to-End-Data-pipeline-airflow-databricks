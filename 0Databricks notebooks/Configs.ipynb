{
 "cells": [
  {
   "cell_type": "markdown",
   "metadata": {
    "application/vnd.databricks.v1+cell": {
     "cellMetadata": {},
     "inputWidgets": {},
     "nuid": "100a2122-6e8c-447a-a23b-0a73b7477def",
     "showTitle": false,
     "title": ""
    }
   },
   "source": [
    "### Mount abfs storage to Databricks file system"
   ]
  },
  {
   "cell_type": "code",
   "execution_count": 0,
   "metadata": {
    "application/vnd.databricks.v1+cell": {
     "cellMetadata": {
      "byteLimit": 2048000,
      "rowLimit": 10000
     },
     "inputWidgets": {},
     "nuid": "80b2667e-5ce4-4bd6-910c-0b96147e1fac",
     "showTitle": false,
     "title": ""
    }
   },
   "outputs": [],
   "source": [
    "def mount_storage(storage_account:str, container:str):\n",
    "\n",
    "    mount_point = f\"/mnt/{storage_account}/{container}\"\n",
    "    source = f\"abfss://{container}@{storage_account}.dfs.core.windows.net/\"\n",
    "\n",
    "    if any(mount.mountPoint == mount_point for mount in dbutils.fs.mounts()): \n",
    "        print(f\"mount point {mount_point} is already exist!\")\n",
    "\n",
    "    else:\n",
    "        client_id = dbutils.secrets.get(scope='customertransactions', key='client-id')\n",
    "        tenant_id = dbutils.secrets.get(scope='customertransactions', key='tenant-id')\n",
    "        secret_value = dbutils.secrets.get(scope='customertransactions', key='secret-value')\n",
    "\n",
    "        configs = {\n",
    "            \"fs.azure.account.auth.type\": \"OAuth\",\n",
    "            \"fs.azure.account.oauth.provider.type\": \"org.apache.hadoop.fs.azurebfs.oauth2.ClientCredsTokenProvider\",\n",
    "            \"fs.azure.account.oauth2.client.id\": client_id,\n",
    "            \"fs.azure.account.oauth2.client.secret\": secret_value,\n",
    "            \"fs.azure.account.oauth2.client.endpoint\": f\"https://login.microsoftonline.com/{tenant_id}/oauth2/token\"\n",
    "            }\n",
    "    \n",
    "    \n",
    "        dbutils.fs.mount(\n",
    "            source = source,\n",
    "            mount_point = mount_point,\n",
    "            extra_configs = configs\n",
    "            )\n",
    "        print(\"Done!\")"
   ]
  },
  {
   "cell_type": "code",
   "execution_count": 0,
   "metadata": {
    "application/vnd.databricks.v1+cell": {
     "cellMetadata": {
      "byteLimit": 2048000,
      "rowLimit": 10000
     },
     "inputWidgets": {},
     "nuid": "8032a329-29e2-4cbf-8552-347d551fb9e6",
     "showTitle": false,
     "title": ""
    }
   },
   "outputs": [
    {
     "output_type": "stream",
     "name": "stdout",
     "output_type": "stream",
     "text": [
      "Done!\nDone!\nDone!\n"
     ]
    },
    {
     "output_type": "display_data",
     "data": {
      "text/html": [
       "<style scoped>\n",
       "  .table-result-container {\n",
       "    max-height: 300px;\n",
       "    overflow: auto;\n",
       "  }\n",
       "  table, th, td {\n",
       "    border: 1px solid black;\n",
       "    border-collapse: collapse;\n",
       "  }\n",
       "  th, td {\n",
       "    padding: 5px;\n",
       "  }\n",
       "  th {\n",
       "    text-align: left;\n",
       "  }\n",
       "</style><div class='table-result-container'><table class='table-result'><thead style='background-color: white'><tr><th>mountPoint</th><th>source</th><th>encryptionType</th></tr></thead><tbody><tr><td>/mnt/customertransaction/presentaion</td><td>abfss://presentaion@customertransaction.dfs.core.windows.net/</td><td></td></tr><tr><td>/databricks-datasets</td><td>databricks-datasets</td><td></td></tr><tr><td>/Volumes</td><td>UnityCatalogVolumes</td><td></td></tr><tr><td>/mnt/customertransaction/raw</td><td>abfss://raw@customertransaction.dfs.core.windows.net/</td><td></td></tr><tr><td>/databricks/mlflow-tracking</td><td>databricks/mlflow-tracking</td><td></td></tr><tr><td>/databricks-results</td><td>databricks-results</td><td></td></tr><tr><td>/databricks/mlflow-registry</td><td>databricks/mlflow-registry</td><td></td></tr><tr><td>/mnt/customertransaction/processed</td><td>abfss://processed@customertransaction.dfs.core.windows.net/</td><td></td></tr><tr><td>/Volume</td><td>DbfsReserved</td><td></td></tr><tr><td>/volumes</td><td>DbfsReserved</td><td></td></tr><tr><td>/</td><td>DatabricksRoot</td><td></td></tr><tr><td>/volume</td><td>DbfsReserved</td><td></td></tr></tbody></table></div>"
      ]
     },
     "metadata": {
      "application/vnd.databricks.v1+output": {
       "addedWidgets": {},
       "aggData": [],
       "aggError": "",
       "aggOverflow": false,
       "aggSchema": [],
       "aggSeriesLimitReached": false,
       "aggType": "",
       "arguments": {},
       "columnCustomDisplayInfos": {},
       "data": [
        [
         "/mnt/customertransaction/presentaion",
         "abfss://presentaion@customertransaction.dfs.core.windows.net/",
         ""
        ],
        [
         "/databricks-datasets",
         "databricks-datasets",
         ""
        ],
        [
         "/Volumes",
         "UnityCatalogVolumes",
         ""
        ],
        [
         "/mnt/customertransaction/raw",
         "abfss://raw@customertransaction.dfs.core.windows.net/",
         ""
        ],
        [
         "/databricks/mlflow-tracking",
         "databricks/mlflow-tracking",
         ""
        ],
        [
         "/databricks-results",
         "databricks-results",
         ""
        ],
        [
         "/databricks/mlflow-registry",
         "databricks/mlflow-registry",
         ""
        ],
        [
         "/mnt/customertransaction/processed",
         "abfss://processed@customertransaction.dfs.core.windows.net/",
         ""
        ],
        [
         "/Volume",
         "DbfsReserved",
         ""
        ],
        [
         "/volumes",
         "DbfsReserved",
         ""
        ],
        [
         "/",
         "DatabricksRoot",
         ""
        ],
        [
         "/volume",
         "DbfsReserved",
         ""
        ]
       ],
       "datasetInfos": [],
       "dbfsResultPath": null,
       "isJsonSchema": true,
       "metadata": {},
       "overflow": false,
       "plotOptions": {
        "customPlotOptions": {},
        "displayType": "table",
        "pivotAggregation": null,
        "pivotColumns": null,
        "xColumns": null,
        "yColumns": null
       },
       "removedWidgets": [],
       "schema": [
        {
         "metadata": "{}",
         "name": "mountPoint",
         "type": "\"string\""
        },
        {
         "metadata": "{}",
         "name": "source",
         "type": "\"string\""
        },
        {
         "metadata": "{}",
         "name": "encryptionType",
         "type": "\"string\""
        }
       ],
       "type": "table"
      }
     },
     "output_type": "display_data"
    }
   ],
   "source": [
    "containers = ['raw', 'processed', 'presentaion']\n",
    "account = 'customertransaction'\n",
    "for container in containers:\n",
    "    mount_storage(account, container)\n"
   ]
  }
 ],
 "metadata": {
  "application/vnd.databricks.v1+notebook": {
   "dashboards": [],
   "environmentMetadata": null,
   "language": "python",
   "notebookMetadata": {
    "pythonIndentUnit": 4
   },
   "notebookName": "Configs",
   "widgets": {}
  }
 },
 "nbformat": 5.0.3,
 "nbformat_minor": 4
}
