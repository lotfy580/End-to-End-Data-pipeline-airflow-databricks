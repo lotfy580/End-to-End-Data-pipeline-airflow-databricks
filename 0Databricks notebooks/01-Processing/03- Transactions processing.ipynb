{
 "cells": [
  {
   "cell_type": "code",
   "execution_count": 0,
   "metadata": {
    "application/vnd.databricks.v1+cell": {
     "cellMetadata": {
      "byteLimit": 2048000,
      "rowLimit": 10000
     },
     "inputWidgets": {},
     "nuid": "9bf284a0-0012-4c58-8704-039a1c91e96a",
     "showTitle": false,
     "title": ""
    }
   },
   "outputs": [],
   "source": [
    "from pyspark.sql.types import StructField, StructType, IntegerType, DecimalType, StringType, DateType, BooleanType, ArrayType, IntegralType\n",
    "from pyspark.sql.functions import from_json, col, cast, explode, concat, to_timestamp, unix_timestamp, to_date, regexp_replace\n",
    "from pyspark.sql.window import Window\n",
    "from datetime import datetime"
   ]
  },
  {
   "cell_type": "code",
   "execution_count": 0,
   "metadata": {
    "application/vnd.databricks.v1+cell": {
     "cellMetadata": {
      "byteLimit": 2048000,
      "rowLimit": 10000
     },
     "inputWidgets": {},
     "nuid": "f60ba481-3f75-43a9-bd48-7968494826f0",
     "showTitle": false,
     "title": ""
    }
   },
   "outputs": [],
   "source": [
    "inner_transactions_schema = \\\n",
    "    StructType(\n",
    "        fields= [\n",
    "            StructField(\"date\",StringType(), True),\n",
    "            StructField(\"amount\", IntegerType(), True),\n",
    "            StructField(\"transaction_code\", StringType(), True),\n",
    "            StructField(\"symbol\", StringType(), True),\n",
    "            StructField(\"price\", DecimalType(10, 2), True),\n",
    "            StructField(\"total\", DecimalType(10, 2), True)\n",
    "        ]\n",
    "    )\n",
    "\n",
    "data_schema = \\\n",
    "    StructType(\n",
    "        fields=[\n",
    "            StructField(\"account_id\", IntegerType(), True),\n",
    "            StructField(\"transaction_count\", IntegerType(), True),\n",
    "            StructField(\"bucket_start_date\", StringType(), True),\n",
    "            StructField(\"bucket_end_date\", StringType(), True),\n",
    "            StructField(\"transactions\", ArrayType(inner_transactions_schema), True)\n",
    "        ]\n",
    "    )\n",
    "\n",
    "transactions_schema = \\\n",
    "    StructType(\n",
    "        fields=[\n",
    "            StructField(\"_id\", StringType(), True),\n",
    "            StructField(\"_fivetran_synced\", StringType(), True),\n",
    "            StructField(\"_fivetran_deleted\", BooleanType(), True),\n",
    "            StructField(\"data\", data_schema, True)\n",
    "        ]\n",
    "    )\n"
   ]
  },
  {
   "cell_type": "code",
   "execution_count": 0,
   "metadata": {
    "application/vnd.databricks.v1+cell": {
     "cellMetadata": {
      "byteLimit": 2048000,
      "rowLimit": 10000
     },
     "inputWidgets": {},
     "nuid": "41a36133-9636-4812-bb0c-777293779f7b",
     "showTitle": false,
     "title": ""
    }
   },
   "outputs": [],
   "source": [
    "last_ingest_date = spark.sql(\n",
    "    \"\"\"\n",
    "    SELECT MAX(ingest_date) as max\n",
    "    FROM processed.ct.transaction\n",
    "    \"\"\"\n",
    ").first()[\"max\"]\n",
    "\n",
    "if last_ingest_date == None:\n",
    "    last_ingest_date = \"1900-01-01T00:00:00\"\n",
    "else:\n",
    "    last_ingest_date = last_ingest_date.isoformat()\n"
   ]
  },
  {
   "cell_type": "code",
   "execution_count": 0,
   "metadata": {
    "application/vnd.databricks.v1+cell": {
     "cellMetadata": {
      "byteLimit": 2048000,
      "rowLimit": 10000
     },
     "inputWidgets": {},
     "nuid": "806f530a-3282-4774-acd3-ae8ab626fbec",
     "showTitle": false,
     "title": ""
    }
   },
   "outputs": [
    {
     "output_type": "stream",
     "name": "stdout",
     "output_type": "stream",
     "text": [
      "2024-05-03T18:59:52.813000\n"
     ]
    }
   ],
   "source": [
    "print(last_ingest_date)"
   ]
  },
  {
   "cell_type": "code",
   "execution_count": 0,
   "metadata": {
    "application/vnd.databricks.v1+cell": {
     "cellMetadata": {
      "byteLimit": 2048000,
      "rowLimit": 10000
     },
     "inputWidgets": {},
     "nuid": "ecfa9181-36de-41a6-8c41-b03430f83c65",
     "showTitle": false,
     "title": ""
    }
   },
   "outputs": [
    {
     "output_type": "display_data",
     "data": {
      "text/html": [
       "<style scoped>\n",
       "  .table-result-container {\n",
       "    max-height: 300px;\n",
       "    overflow: auto;\n",
       "  }\n",
       "  table, th, td {\n",
       "    border: 1px solid black;\n",
       "    border-collapse: collapse;\n",
       "  }\n",
       "  th, td {\n",
       "    padding: 5px;\n",
       "  }\n",
       "  th {\n",
       "    text-align: left;\n",
       "  }\n",
       "</style><div class='table-result-container'><table class='table-result'><thead style='background-color: white'><tr><th>_id</th><th>_fivetran_synced</th><th>data</th><th>_fivetran_deleted</th></tr></thead><tbody></tbody></table></div>"
      ]
     },
     "metadata": {
      "application/vnd.databricks.v1+output": {
       "addedWidgets": {},
       "aggData": [],
       "aggError": "",
       "aggOverflow": false,
       "aggSchema": [],
       "aggSeriesLimitReached": false,
       "aggType": "",
       "arguments": {},
       "columnCustomDisplayInfos": {},
       "data": [],
       "datasetInfos": [],
       "dbfsResultPath": null,
       "isJsonSchema": true,
       "metadata": {},
       "overflow": false,
       "plotOptions": {
        "customPlotOptions": {},
        "displayType": "table",
        "pivotAggregation": null,
        "pivotColumns": null,
        "xColumns": null,
        "yColumns": null
       },
       "removedWidgets": [],
       "schema": [
        {
         "metadata": "{\"primaryKey\":true}",
         "name": "_id",
         "type": "\"string\""
        },
        {
         "metadata": "{\"primaryKey\":false}",
         "name": "_fivetran_synced",
         "type": "\"timestamp\""
        },
        {
         "metadata": "{\"primaryKey\":false}",
         "name": "data",
         "type": "\"string\""
        },
        {
         "metadata": "{\"primaryKey\":false}",
         "name": "_fivetran_deleted",
         "type": "\"boolean\""
        }
       ],
       "type": "table"
      }
     },
     "output_type": "display_data"
    }
   ],
   "source": [
    "\n",
    "df = spark.read.load(\"/mnt/customertransaction/raw/fivetran/mongo_trans/transactions\").filter(col(\"_fivetran_synced\") > last_ingest_date)\n",
    "display(df)"
   ]
  },
  {
   "cell_type": "code",
   "execution_count": 0,
   "metadata": {
    "application/vnd.databricks.v1+cell": {
     "cellMetadata": {
      "byteLimit": 2048000,
      "rowLimit": 10000
     },
     "inputWidgets": {},
     "nuid": "632bbd01-10a4-4ef7-9a66-8cd4dc6dbfd0",
     "showTitle": false,
     "title": ""
    }
   },
   "outputs": [],
   "source": [
    "df_defined = df.withColumn(\"data\", from_json(\"data\", data_schema))\n"
   ]
  },
  {
   "cell_type": "code",
   "execution_count": 0,
   "metadata": {
    "application/vnd.databricks.v1+cell": {
     "cellMetadata": {
      "byteLimit": 2048000,
      "rowLimit": 10000
     },
     "inputWidgets": {},
     "nuid": "3aaf3042-acea-42bb-8997-e77fe04f2cbf",
     "showTitle": false,
     "title": ""
    }
   },
   "outputs": [],
   "source": [
    "df_exploeded = df_defined.withColumn(\"transactions\", explode(col(\"data.transactions\")))\n"
   ]
  },
  {
   "cell_type": "code",
   "execution_count": 0,
   "metadata": {
    "application/vnd.databricks.v1+cell": {
     "cellMetadata": {
      "byteLimit": 2048000,
      "rowLimit": 10000
     },
     "inputWidgets": {},
     "nuid": "7f88e6a5-3f74-4d3d-adcf-ce32eaac91f3",
     "showTitle": false,
     "title": ""
    }
   },
   "outputs": [],
   "source": [
    "df_final = df_exploeded.select(\n",
    "    concat(col(\"data.account_id\"), unix_timestamp(col(\"transactions.date\"), \"yyyy-MM-dd'T'HH:mm:ss'Z'\")).cast(\"bigint\").alias(\"transaction_id\"),\n",
    "    col(\"data.account_id\").alias(\"account_id\"),\n",
    "    to_date(regexp_replace(regexp_replace(\"transactions.date\", \"Z\", \"\",), \"T\", \" \"), \"yyyy-MM-dd HH:mm:ss\").alias(\"transaction_date\"),\n",
    "    col(\"transactions.transaction_code\").alias(\"transaction_type\"),\n",
    "    col(\"transactions.symbol\").alias(\"symbol\"),\n",
    "    col(\"transactions.amount\").alias(\"amount\"),\n",
    "    col(\"transactions.price\").alias(\"unit_price\"),\n",
    "    col(\"transactions.total\").alias(\"total_price\"),\n",
    "    to_date(regexp_replace(regexp_replace(\"data.bucket_start_date\", \"Z\", \"\",), \"T\", \" \"), \"yyyy-MM-dd HH:mm:ss\").alias(\"bucket_start_date\"),\n",
    "     to_date(regexp_replace(regexp_replace(\"data.bucket_end_date\", \"Z\", \"\",), \"T\", \" \"), \"yyyy-MM-dd HH:mm:ss\").alias(\"bucket_end_date\"),\n",
    "    col(\"data.transaction_count\").alias(\"transaction_count\"),\n",
    "    col(\"_fivetran_synced\").alias(\"ingest_date\")\n",
    "\n",
    "    ).filter(\"transaction_id is not null\")\n"
   ]
  },
  {
   "cell_type": "code",
   "execution_count": 0,
   "metadata": {
    "application/vnd.databricks.v1+cell": {
     "cellMetadata": {
      "byteLimit": 2048000,
      "rowLimit": 10000
     },
     "inputWidgets": {},
     "nuid": "ce385c89-f86f-4317-b676-eeb3ba368bbe",
     "showTitle": false,
     "title": ""
    }
   },
   "outputs": [],
   "source": [
    "df_final\\\n",
    "    .write\\\n",
    "    .mode(\"append\")\\\n",
    "    .format(\"delta\")\\\n",
    "    .option(\"mergeSchema\", \"true\")\\\n",
    "    .saveAsTable(\"processed.ct.transaction\")"
   ]
  }
 ],
 "metadata": {
  "application/vnd.databricks.v1+notebook": {
   "dashboards": [],
   "environmentMetadata": null,
   "language": "python",
   "notebookMetadata": {
    "pythonIndentUnit": 4
   },
   "notebookName": "03- Transactions processing",
   "widgets": {}
  }
 },
 "nbformat": 4,
 "nbformat_minor": 0
}
