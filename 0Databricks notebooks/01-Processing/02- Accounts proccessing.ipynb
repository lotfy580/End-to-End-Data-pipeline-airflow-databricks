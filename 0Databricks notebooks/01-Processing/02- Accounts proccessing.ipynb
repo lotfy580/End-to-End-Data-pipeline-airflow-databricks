{
 "cells": [
  {
   "cell_type": "code",
   "execution_count": 0,
   "metadata": {
    "application/vnd.databricks.v1+cell": {
     "cellMetadata": {
      "byteLimit": 2048000,
      "rowLimit": 10000
     },
     "inputWidgets": {},
     "nuid": "3a0f8511-7c69-4174-aabd-e4b01e9a008e",
     "showTitle": false,
     "title": ""
    }
   },
   "outputs": [],
   "source": [
    "from pyspark.sql.types import StructType, StructField, StringType, IntegerType, DecimalType, ArrayType, BooleanType, MapType\n",
    "from pyspark.sql.functions import from_json, col, explode, count, when"
   ]
  },
  {
   "cell_type": "code",
   "execution_count": 0,
   "metadata": {
    "application/vnd.databricks.v1+cell": {
     "cellMetadata": {
      "byteLimit": 2048000,
      "rowLimit": 10000
     },
     "inputWidgets": {},
     "nuid": "f38a0856-6ef4-4572-bd8a-69364b470167",
     "showTitle": false,
     "title": ""
    }
   },
   "outputs": [],
   "source": [
    "df= spark.read.load(\"/mnt/customertransaction/raw/fivetran/mongo_trans/accounts\")"
   ]
  },
  {
   "cell_type": "code",
   "execution_count": 0,
   "metadata": {
    "application/vnd.databricks.v1+cell": {
     "cellMetadata": {
      "byteLimit": 2048000,
      "rowLimit": 10000
     },
     "inputWidgets": {},
     "nuid": "4ca2f4b8-5d42-46ce-835d-9253c5c5ed3e",
     "showTitle": false,
     "title": ""
    }
   },
   "outputs": [],
   "source": [
    "data_schema = \\\n",
    "    StructType(\n",
    "        fields=[\n",
    "            StructField(\"account_id\", IntegerType(), True),\n",
    "            StructField(\"limit\", IntegerType(), True),\n",
    "            StructField(\"products\", ArrayType(StringType()), True)\n",
    "        ]\n",
    "    )"
   ]
  },
  {
   "cell_type": "code",
   "execution_count": 0,
   "metadata": {
    "application/vnd.databricks.v1+cell": {
     "cellMetadata": {
      "byteLimit": 2048000,
      "rowLimit": 10000
     },
     "inputWidgets": {},
     "nuid": "04d06bc6-2754-48f8-9759-375e5864064c",
     "showTitle": false,
     "title": ""
    }
   },
   "outputs": [],
   "source": [
    "df_defined = df.withColumn(\"data\", from_json(\"data\", data_schema))"
   ]
  },
  {
   "cell_type": "code",
   "execution_count": 0,
   "metadata": {
    "application/vnd.databricks.v1+cell": {
     "cellMetadata": {
      "byteLimit": 2048000,
      "rowLimit": 10000
     },
     "inputWidgets": {},
     "nuid": "96b40472-206c-4ff9-8f05-4c46c6b586ca",
     "showTitle": false,
     "title": ""
    }
   },
   "outputs": [],
   "source": [
    "df_final = \\\n",
    "    df_defined\\\n",
    "        .select(\n",
    "            col(\"_id\").alias(\"id\"),\n",
    "            col(\"data.account_id\").alias(\"account_id\"),\n",
    "            col(\"data.limit\").alias(\"limit\"),\n",
    "            col(\"data.products\").alias(\"products\"),\n",
    "            col(\"_fivetran_synced\").alias(\"ingest_date\")\n",
    "        ).dropDuplicates([\"account_id\"])"
   ]
  },
  {
   "cell_type": "code",
   "execution_count": 0,
   "metadata": {
    "application/vnd.databricks.v1+cell": {
     "cellMetadata": {
      "byteLimit": 2048000,
      "rowLimit": 10000
     },
     "inputWidgets": {},
     "nuid": "1bd4c58e-0f33-4690-ae30-70d3d8a2b6b8",
     "showTitle": false,
     "title": ""
    }
   },
   "outputs": [],
   "source": [
    "df_final\\\n",
    "    .write\\\n",
    "    .mode(\"overwrite\")\\\n",
    "    .format(\"delta\")\\\n",
    "    .saveAsTable(\"processed.ct.account\")"
   ]
  }
 ],
 "metadata": {
  "application/vnd.databricks.v1+notebook": {
   "dashboards": [],
   "environmentMetadata": null,
   "language": "python",
   "notebookMetadata": {
    "pythonIndentUnit": 4
   },
   "notebookName": "02- Accounts proccessing",
   "widgets": {}
  }
 },
 "nbformat": 4,
 "nbformat_minor": 0
}
