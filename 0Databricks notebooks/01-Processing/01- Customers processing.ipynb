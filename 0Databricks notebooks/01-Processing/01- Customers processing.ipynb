{
 "cells": [
  {
   "cell_type": "code",
   "execution_count": 0,
   "metadata": {
    "application/vnd.databricks.v1+cell": {
     "cellMetadata": {
      "byteLimit": 2048000,
      "rowLimit": 10000
     },
     "inputWidgets": {},
     "nuid": "b507ee3b-6a03-4e82-a223-d4b62020cbfb",
     "showTitle": false,
     "title": ""
    }
   },
   "outputs": [],
   "source": [
    "from pyspark.sql.types import StructType, StructField, StringType, IntegerType, DecimalType, ArrayType, BooleanType, MapType\n",
    "from pyspark.sql.functions import from_json, col, explode, count, when, to_date, regexp_replace, lit"
   ]
  },
  {
   "cell_type": "code",
   "execution_count": 0,
   "metadata": {
    "application/vnd.databricks.v1+cell": {
     "cellMetadata": {
      "byteLimit": 2048000,
      "rowLimit": 10000
     },
     "inputWidgets": {},
     "nuid": "ac47504a-5cbe-4a10-b318-c174bfa73ca7",
     "showTitle": false,
     "title": ""
    }
   },
   "outputs": [],
   "source": [
    "tier_schema = \\\n",
    "    MapType(StringType(), \n",
    "            StructType(\n",
    "                fields=[\n",
    "                    StructField(\"tier\", StringType(), True),\n",
    "                    StructField(\"benefits\", ArrayType(StringType()), True),\n",
    "                    StructField(\"active\", BooleanType(), True)\n",
    "                ]\n",
    "            )\n",
    "    )   \n",
    "        \n",
    "\n",
    "\n",
    "data_schema = \\\n",
    "    StructType(\n",
    "        fields= [\n",
    "            StructField(\"username\", StringType(), True),\n",
    "            StructField(\"name\", StringType(), True),\n",
    "            StructField(\"address\", StringType(), True),\n",
    "            StructField(\"birthdate\", StringType()),\n",
    "            StructField(\"email\", StringType(), True),\n",
    "            StructField(\"active\", StringType(), True),\n",
    "            StructField(\"accounts\", ArrayType(IntegerType()), True),\n",
    "            StructField(\"tier_and_details\", tier_schema, True)\n",
    "        ]\n",
    "    )\n",
    "\n"
   ]
  },
  {
   "cell_type": "code",
   "execution_count": 0,
   "metadata": {
    "application/vnd.databricks.v1+cell": {
     "cellMetadata": {
      "byteLimit": 2048000,
      "rowLimit": 10000
     },
     "inputWidgets": {},
     "nuid": "ce3b9200-2b91-4ea3-bd78-2fbd6e48022a",
     "showTitle": false,
     "title": ""
    }
   },
   "outputs": [],
   "source": [
    "df = spark.read.load(\"/mnt/customertransaction/raw/fivetran/mongo_trans/customers\")\n",
    "#display(df.select(\"_id\").distinct())"
   ]
  },
  {
   "cell_type": "code",
   "execution_count": 0,
   "metadata": {
    "application/vnd.databricks.v1+cell": {
     "cellMetadata": {
      "byteLimit": 2048000,
      "rowLimit": 10000
     },
     "inputWidgets": {},
     "nuid": "5ae93c64-6da4-4918-86b7-ae474294a972",
     "showTitle": false,
     "title": ""
    }
   },
   "outputs": [],
   "source": [
    "df_defined = df\\\n",
    "    .withColumn(\"data\", from_json(col(\"data\"), data_schema)) \\\n",
    "    .withColumn(\"account_id\", explode(\"data.accounts\"))\n",
    "\n",
    "df_with_tier = df_defined.select(\"_id\", explode(\"data.tier_and_details\").alias(\"key\", \"tier_details\"))\n",
    "\n",
    "df_join_tier = df_defined.alias(\"d\").join(df_with_tier.alias(\"t\"), df_defined._id == df_with_tier._id, \"outer\")\n",
    "\n"
   ]
  },
  {
   "cell_type": "code",
   "execution_count": 0,
   "metadata": {
    "application/vnd.databricks.v1+cell": {
     "cellMetadata": {
      "byteLimit": 2048000,
      "rowLimit": 10000
     },
     "inputWidgets": {},
     "nuid": "3494c72c-a7af-45c5-a49e-63b4df954f6f",
     "showTitle": false,
     "title": ""
    }
   },
   "outputs": [],
   "source": [
    "\n",
    "df_final=df_join_tier.select(\n",
    "        col(\"d._id\").alias(\"id\"),\n",
    "        col(\"data.username\").alias(\"user_name\"),\n",
    "        col(\"data.name\").alias(\"name\"),\n",
    "        col(\"data.address\").alias(\"address\"),\n",
    "        to_date(regexp_replace(regexp_replace(\"data.birthdate\", \"Z\", \"\",), \"T\", \" \"), \"yyyy-MM-dd HH:mm:ss\").alias(\"birth_date\"),\n",
    "        col(\"data.email\").alias(\"email\"),\n",
    "        col(\"data.active\").alias(\"active_customer\"),\n",
    "        col('account_id').alias(\"account_id\"),\n",
    "        col(\"tier_details.tier\").alias(\"tier\"),\n",
    "        col(\"tier_details.benefits\").alias(\"benefits\"),\n",
    "        col(\"tier_details.active\").alias(\"tier_active\"),\n",
    "        col(\"_fivetran_synced\").alias(\"ingest_date\")\n",
    "        )\n"
   ]
  },
  {
   "cell_type": "code",
   "execution_count": 0,
   "metadata": {
    "application/vnd.databricks.v1+cell": {
     "cellMetadata": {
      "byteLimit": 2048000,
      "rowLimit": 10000
     },
     "inputWidgets": {},
     "nuid": "73a0a84e-33a8-4f46-ae6e-64b5e88b649f",
     "showTitle": false,
     "title": ""
    }
   },
   "outputs": [],
   "source": [
    "df_final\\\n",
    "    .write\\\n",
    "    .mode('overwrite')\\\n",
    "    .format(\"delta\")\\\n",
    "    .option(\"overwriteSchema\", \"true\")\\\n",
    "    .saveAsTable(\"processed.ct.customer\")"
   ]
  }
 ],
 "metadata": {
  "application/vnd.databricks.v1+notebook": {
   "dashboards": [],
   "environmentMetadata": null,
   "language": "python",
   "notebookMetadata": {
    "pythonIndentUnit": 4
   },
   "notebookName": "01- Customers processing",
   "widgets": {}
  }
 },
 "nbformat": 4,
 "nbformat_minor": 0
}
