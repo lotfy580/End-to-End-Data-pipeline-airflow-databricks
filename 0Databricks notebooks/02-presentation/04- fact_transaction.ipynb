{
 "cells": [
  {
   "cell_type": "code",
   "execution_count": 0,
   "metadata": {
    "application/vnd.databricks.v1+cell": {
     "cellMetadata": {
      "byteLimit": 2048000,
      "rowLimit": 10000
     },
     "inputWidgets": {},
     "nuid": "573dfe44-4601-43e0-8adc-ae2263b385f7",
     "showTitle": false,
     "title": ""
    }
   },
   "outputs": [],
   "source": [
    "from datetime import datetime\n",
    "from pyspark.sql.functions import col, regexp_replace, current_date, lit\n",
    "from pyspark.sql.types import IntegerType"
   ]
  },
  {
   "cell_type": "code",
   "execution_count": 0,
   "metadata": {
    "application/vnd.databricks.v1+cell": {
     "cellMetadata": {
      "byteLimit": 2048000,
      "rowLimit": 10000
     },
     "inputWidgets": {},
     "nuid": "8ae780b8-0007-4eb8-8d40-cd28b230f147",
     "showTitle": false,
     "title": ""
    }
   },
   "outputs": [],
   "source": [
    "last_transform_date = spark.sql(\n",
    "    \"\"\"\n",
    "        SELECT max(create_date) AS max\n",
    "        FROM presentation.ct.fact_transaction;\n",
    "    \"\"\"\n",
    ").first()[\"max\"]\n",
    "\n",
    "if last_transform_date == None:\n",
    "    last_transform_date = \"1900-01-01T00:00:00\"\n",
    "else:\n",
    "    last_transform_date = last_transform_date.isoformat()"
   ]
  },
  {
   "cell_type": "code",
   "execution_count": 0,
   "metadata": {
    "application/vnd.databricks.v1+cell": {
     "cellMetadata": {
      "byteLimit": 2048000,
      "rowLimit": 10000
     },
     "inputWidgets": {},
     "nuid": "40353ede-a679-43b1-a041-a0135042f171",
     "showTitle": false,
     "title": ""
    }
   },
   "outputs": [],
   "source": [
    "df_new_transactions = spark.sql(\n",
    "    \"\"\"\n",
    "        SELECT *\n",
    "        FROM processed.ct.transaction\n",
    "        WHERE \n",
    "            transaction_id IS NOT NULL\n",
    "            AND create_date > '{}';\n",
    "    \"\"\".format(last_transform_date)\n",
    ")\n",
    "\n",
    "\n",
    "df_customer_account_lookup = spark.sql(\n",
    "    \"\"\"\n",
    "        SELECT DISTINCT id AS customer_bk, account_id\n",
    "        FROM processed.ct.customer;\n",
    "    \"\"\"\n",
    ")\n",
    "\n",
    "df_customer_sk_lookup = spark.sql(\n",
    "    \"\"\"\n",
    "        SELECT customer_sk, customer_bk\n",
    "        FROM presentation.ct.dim_customer\n",
    "        WHERE is_current = 1;\n",
    "    \"\"\"\n",
    ")\n",
    "\n",
    "df_account_sk_lookup = spark.sql(\n",
    "    \"\"\"\n",
    "        SELECT account_sk, account_id\n",
    "        FROM presentation.ct.dim_account\n",
    "        WHERE is_current = 1;\n",
    "    \"\"\"\n",
    ")\n",
    "\n",
    "df_transaction_details_lookup = spark.sql(\n",
    "    \"\"\"\n",
    "        SELECT transaction_details_pk, transaction_type, symbol\n",
    "        FROM presentation.ct.dim_transaction_details\n",
    "    \"\"\"\n",
    ")"
   ]
  },
  {
   "cell_type": "code",
   "execution_count": 0,
   "metadata": {
    "application/vnd.databricks.v1+cell": {
     "cellMetadata": {
      "byteLimit": 2048000,
      "rowLimit": 10000
     },
     "inputWidgets": {},
     "nuid": "5901dea5-1f8e-4955-9ea7-fdead6b39e83",
     "showTitle": false,
     "title": ""
    }
   },
   "outputs": [],
   "source": [
    "df_new_transactions_lookup = df_new_transactions.alias(\"nt\")\\\n",
    "    .join(df_customer_account_lookup, df_new_transactions.account_id == df_customer_account_lookup.account_id, \"left\")\\\n",
    "    .join(df_customer_sk_lookup.alias(\"c\"), df_customer_account_lookup.customer_bk == df_customer_sk_lookup.customer_bk, \"left\")\\\n",
    "    .join(df_account_sk_lookup, df_new_transactions.account_id == df_account_sk_lookup.account_id, \"left\")\\\n",
    "    .join(df_transaction_details_lookup.alias(\"td\"), \n",
    "          (df_new_transactions.transaction_type == df_transaction_details_lookup.transaction_type) &\n",
    "          (df_new_transactions.symbol == df_transaction_details_lookup.symbol), \"left\")\\\n",
    "    .select(\n",
    "        col(\"transaction_id\"), \n",
    "        col(\"c.customer_sk\").alias(\"customer_fk\"),\n",
    "        col(\"account_sk\").alias(\"account_fk\"),\n",
    "        col(\"td.transaction_details_pk\").alias(\"trancation_details_fk\"),\n",
    "        regexp_replace(col(\"transaction_date\"), \"-\", \"\").cast(IntegerType()).alias(\"transaction_date_fk\"),\n",
    "        col(\"nt.account_id\").alias(\"account_bk\"),\n",
    "        col(\"c.customer_bk\").alias(\"customer_bk\"),\n",
    "        col(\"amount\"),\n",
    "        col(\"unit_price\")\n",
    "        )\\\n",
    "    .withColumn(\"create_date\", lit(current_date()))\n",
    "    \n",
    "    \n",
    "df_new_transactions_lookup.createOrReplaceTempView(\"new_transactions\")"
   ]
  },
  {
   "cell_type": "code",
   "execution_count": 0,
   "metadata": {
    "application/vnd.databricks.v1+cell": {
     "cellMetadata": {
      "byteLimit": 2048000,
      "implicitDf": true,
      "rowLimit": 10000
     },
     "inputWidgets": {},
     "nuid": "b739e76b-1d0f-4398-a9d7-c3054accebe0",
     "showTitle": false,
     "title": ""
    }
   },
   "outputs": [
    {
     "output_type": "execute_result",
     "data": {
      "text/plain": [
       "DataFrame[num_affected_rows: bigint, num_inserted_rows: bigint]"
      ]
     },
     "execution_count": 38,
     "metadata": {},
     "output_type": "execute_result"
    }
   ],
   "source": [
    "%sql\n",
    "\n",
    "INSERT INTO presentation.ct.fact_transaction(\n",
    "    transaction_bk,\n",
    "    customer_fk,\n",
    "    account_fk,\n",
    "    trancation_details_fk,\n",
    "    transaction_date_fk,\n",
    "    account_bk,\n",
    "    customer_bk,\n",
    "    amount,\n",
    "    unit_price,\n",
    "    create_date\n",
    "    )\n",
    "SELECT *\n",
    "FROM new_transactions    \n"
   ]
  }
 ],
 "metadata": {
  "application/vnd.databricks.v1+notebook": {
   "dashboards": [],
   "environmentMetadata": null,
   "language": "python",
   "notebookMetadata": {
    "mostRecentlyExecutedCommandWithImplicitDF": {
     "commandId": 2786655345676939,
     "dataframes": [
      "_sqldf"
     ]
    },
    "pythonIndentUnit": 4
   },
   "notebookName": "04- fact_transaction",
   "widgets": {}
  }
 },
 "nbformat": 4,
 "nbformat_minor": 0
}
