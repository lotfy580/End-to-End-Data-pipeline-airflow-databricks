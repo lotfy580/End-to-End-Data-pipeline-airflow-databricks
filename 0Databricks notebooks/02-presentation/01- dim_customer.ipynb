{
 "cells": [
  {
   "cell_type": "code",
   "execution_count": 0,
   "metadata": {
    "application/vnd.databricks.v1+cell": {
     "cellMetadata": {
      "byteLimit": 2048000,
      "rowLimit": 10000
     },
     "inputWidgets": {},
     "nuid": "731361fc-02f5-4c13-8125-569d6af5451a",
     "showTitle": false,
     "title": ""
    }
   },
   "outputs": [],
   "source": [
    "from pyspark.sql.functions import col, explode, when, count, col, lit, current_date\n",
    "from pyspark.sql.types import BooleanType, IntegerType"
   ]
  },
  {
   "cell_type": "code",
   "execution_count": 0,
   "metadata": {
    "application/vnd.databricks.v1+cell": {
     "cellMetadata": {
      "byteLimit": 2048000,
      "rowLimit": 10000
     },
     "inputWidgets": {},
     "nuid": "8a0b463e-c5c1-4583-a11c-6d8697b51665",
     "showTitle": false,
     "title": ""
    }
   },
   "outputs": [],
   "source": [
    "df= spark.sql(\n",
    "  \"\"\"\n",
    "  SELECT * FROM processed.ct.customer\n",
    "  \"\"\"\n",
    ")"
   ]
  },
  {
   "cell_type": "code",
   "execution_count": 0,
   "metadata": {
    "application/vnd.databricks.v1+cell": {
     "cellMetadata": {
      "byteLimit": 2048000,
      "rowLimit": 10000
     },
     "inputWidgets": {},
     "nuid": "80b692cf-df98-460f-a636-281d63e597e2",
     "showTitle": false,
     "title": ""
    }
   },
   "outputs": [],
   "source": [
    "df_with_benefits = df.withColumn(\"benefit\", explode(\"benefits\"))\n",
    "df_joined = df.alias(\"d\").join(df_with_benefits.alias(\"b\"), df.id == df_with_benefits.id, \"outer\")\n",
    "\n"
   ]
  },
  {
   "cell_type": "code",
   "execution_count": 0,
   "metadata": {
    "application/vnd.databricks.v1+cell": {
     "cellMetadata": {
      "byteLimit": 2048000,
      "rowLimit": 10000
     },
     "inputWidgets": {},
     "nuid": "2943f105-48ba-4e56-a37e-b4ac33b1b2b2",
     "showTitle": false,
     "title": ""
    }
   },
   "outputs": [],
   "source": [
    "df_grouped = df_joined\\\n",
    "    .groupby(col(\"d.id\").alias(\"customer_bk\"), col(\"d.user_name\"), col(\"d.name\"), col(\"d.address\"), col(\"d.birth_date\"), col(\"d.email\"), col(\"d.active_customer\").cast(BooleanType()))\\\n",
    "    .agg(\n",
    "        when(count(when(col(\"d.tier\") == \"Bronze\", True)) > 0, True).otherwise(False).alias(\"bronze_tier\"),\n",
    "        when(count(when(col(\"d.tier\") == \"Silver\", True)) > 0, True).otherwise(False).alias(\"silver_tier\"),\n",
    "        when(count(when(col(\"d.tier\") == \"Gold\", True)) > 0, True).otherwise(False).alias(\"gold_tier\"),\n",
    "        when(count(when(col(\"d.tier\") == \"Platinum\", True)) > 0, True).otherwise(False).alias(\"platinum_tier\"),\n",
    "        when(count(when(col(\"benefit\")==\"24 hour dedicated line\", True))>0, True).otherwise(False).alias(\"24_hour_dedicated_line_benefit\"),\n",
    "        when(count(when(col(\"benefit\") == \"concert tickets\", True)) > 0, True).otherwise(False).alias(\"concert_ticket_benefit\"),\n",
    "        when(count(when(col(\"benefit\") == \"travel insurance\", True)) > 0, True).otherwise(False).alias(\"travel_insurance_benefit\"),\n",
    "        when(count(when(col(\"benefit\") == \"financial planning assistance\", True)) > 0, True).otherwise(False).alias(\"financial_planning_assistance_benefit\"),\n",
    "        when(count(when(col(\"benefit\") == \"shopping discounts\", True)) > 0, True).otherwise(False).alias(\"shopping_discounts_benefit\"),\n",
    "        when(count(when(col(\"benefit\") == \"sports tickets\", True)) > 0, True).otherwise(False).alias(\"sports_tickets_benefit\"),\n",
    "        when(count(when(col(\"benefit\") == \"concierge services\", True)) > 0, True).otherwise(False).alias(\"concierge_service_benefit\"),\n",
    "        when(count(when(col(\"benefit\") == \"car rental insurance\", True)) > 0, True).otherwise(False).alias(\"car_rental_benefit\"),\n",
    "        when(count(when(col(\"benefit\") == \"airline lounge access\", True)) > 0, True).otherwise(False).alias(\"airline_lounge_access_benefit\"),\n",
    "        when(count(when(col(\"benefit\") == \"dedicated account representative\", True)) > 0, True).otherwise(False).alias(\"dedicated_account_representative\")\n",
    "        \n",
    "        )   \n"
   ]
  },
  {
   "cell_type": "markdown",
   "metadata": {
    "application/vnd.databricks.v1+cell": {
     "cellMetadata": {
      "byteLimit": 2048000,
      "rowLimit": 10000
     },
     "inputWidgets": {},
     "nuid": "b824b6f8-e8c4-46fe-9bb5-44cc17627390",
     "showTitle": false,
     "title": ""
    }
   },
   "source": [
    "#### Managing Slowly Changing Dimension Type 2!"
   ]
  },
  {
   "cell_type": "code",
   "execution_count": 0,
   "metadata": {
    "application/vnd.databricks.v1+cell": {
     "cellMetadata": {
      "byteLimit": 2048000,
      "implicitDf": true,
      "rowLimit": 10000
     },
     "inputWidgets": {},
     "nuid": "51002aa1-9020-46f9-850e-057c0a8013fb",
     "showTitle": false,
     "title": ""
    }
   },
   "outputs": [],
   "source": [
    " \n",
    "df_updated = df_grouped\\\n",
    "    .withColumn(\"start_date\", lit(current_date()))\\\n",
    "    .withColumn(\"end_date\", lit(None))\\\n",
    "    .withColumn(\"is_current\", lit(True))\\\n",
    "    .withColumn(\"source_system\", lit(\"mongoDB_1\"))\n",
    "df_current = spark.sql(\n",
    "    \"\"\"\n",
    "    SELECT * EXCEPT (customer_sk)\n",
    "    FROM presentation.ct.dim_customer\n",
    "    WHERE is_current = 1\n",
    "    \"\"\"\n",
    ")\n",
    "\n",
    "if df_current.count() != 0:\n",
    "    df_upd_j_cur = df_updated.alias(\"upd\").join(df_current.alias(\"cur\"), df_updated.customer_bk == df_current.customer_bk, \"outer\")\n",
    "\n",
    "    df_hist_records = df_upd_j_cur\\\n",
    "        .filter(col(\"cur.customer_bk\").isNotNull())\\\n",
    "        .filter(col(\"upd.address\") != col(\"cur.address\"))\\\n",
    "        .select(\"cur.*\")\\\n",
    "        .withColumn(\"is_current\", lit(False))\\\n",
    "        .withColumn(\"end_date\", lit(current_date()))\n",
    "        \n",
    "\n",
    "    id_list = [row.customer_bk for row in df_hist_records.select(\"cur.customer_bk\").collect()]\n",
    "\n",
    "    df_new_records = df_upd_j_cur\\\n",
    "        .withColumn(\"upd.start_date\", when((~col(\"upd.customer_bk\").isin(id_list)) & (col(\"cur.start_date\") != 'null') , col(\"cur.start_date\")))\\\n",
    "        .select(\"upd.*\")\n",
    "\n",
    "    df_final = df_new_records.union(df_hist_records)\n",
    "\n",
    "    df_final.createOrReplaceTempView(\"source_data\")\n",
    "else:\n",
    "    df_final = df_updated\n",
    "    df_final.createOrReplaceTempView(\"source_data\")\n",
    "\n"
   ]
  },
  {
   "cell_type": "code",
   "execution_count": 0,
   "metadata": {
    "application/vnd.databricks.v1+cell": {
     "cellMetadata": {
      "byteLimit": 2048000,
      "implicitDf": true,
      "rowLimit": 10000
     },
     "inputWidgets": {},
     "nuid": "643df7a1-cdc2-4c6b-b1f7-042880dece67",
     "showTitle": false,
     "title": ""
    }
   },
   "outputs": [
    {
     "output_type": "display_data",
     "data": {
      "text/html": [
       "<style scoped>\n",
       "  .table-result-container {\n",
       "    max-height: 300px;\n",
       "    overflow: auto;\n",
       "  }\n",
       "  table, th, td {\n",
       "    border: 1px solid black;\n",
       "    border-collapse: collapse;\n",
       "  }\n",
       "  th, td {\n",
       "    padding: 5px;\n",
       "  }\n",
       "  th {\n",
       "    text-align: left;\n",
       "  }\n",
       "</style><div class='table-result-container'><table class='table-result'><thead style='background-color: white'><tr><th>num_affected_rows</th><th>num_updated_rows</th><th>num_deleted_rows</th><th>num_inserted_rows</th></tr></thead><tbody><tr><td>501</td><td>500</td><td>0</td><td>1</td></tr></tbody></table></div>"
      ]
     },
     "metadata": {
      "application/vnd.databricks.v1+output": {
       "addedWidgets": {},
       "aggData": [],
       "aggError": "",
       "aggOverflow": false,
       "aggSchema": [],
       "aggSeriesLimitReached": false,
       "aggType": "",
       "arguments": {},
       "columnCustomDisplayInfos": {},
       "data": [
        [
         501,
         500,
         0,
         1
        ]
       ],
       "datasetInfos": [],
       "dbfsResultPath": null,
       "isJsonSchema": true,
       "metadata": {
        "dataframeName": "_sqldf",
        "executionCount": 15
       },
       "overflow": false,
       "plotOptions": {
        "customPlotOptions": {},
        "displayType": "table",
        "pivotAggregation": null,
        "pivotColumns": null,
        "xColumns": null,
        "yColumns": null
       },
       "removedWidgets": [],
       "schema": [
        {
         "metadata": "{}",
         "name": "num_affected_rows",
         "type": "\"long\""
        },
        {
         "metadata": "{}",
         "name": "num_updated_rows",
         "type": "\"long\""
        },
        {
         "metadata": "{}",
         "name": "num_deleted_rows",
         "type": "\"long\""
        },
        {
         "metadata": "{}",
         "name": "num_inserted_rows",
         "type": "\"long\""
        }
       ],
       "type": "table"
      }
     },
     "output_type": "display_data"
    }
   ],
   "source": [
    "%sql\n",
    "MERGE INTO presentation.ct.dim_customer AS trg\n",
    "USING source_data AS src\n",
    "ON src.customer_bk = trg.customer_bk AND src.is_current = 1\n",
    "WHEN MATCHED THEN UPDATE\n",
    "SET\n",
    "  customer_bk = src.customer_bk,\n",
    "  name = src.name,\n",
    "  user_name = src.user_name,\n",
    "  address = src.address,\n",
    "  birth_date = src.birth_date,\n",
    "  email = src.email,\n",
    "  active_customer = src.active_customer,\n",
    "  bronze_tier = src.bronze_tier,\n",
    "  silver_tier = src.silver_tier,\n",
    "  gold_tier = src.gold_tier,\n",
    "  platinum_tier = src.platinum_tier,\n",
    "  24_hour_dedicated_line_benefit = src.24_hour_dedicated_line_benefit,\n",
    "  concert_ticket_benefit = src.concert_ticket_benefit,\n",
    "  travel_insurance_benefit = src.travel_insurance_benefit,\n",
    "  financial_planning_assistance_benefit = src.financial_planning_assistance_benefit,\n",
    "  shopping_discounts_benefit = src.shopping_discounts_benefit,\n",
    "  sports_tickets_benefit = src.sports_tickets_benefit,\n",
    "  concierge_service_benefit = src.concierge_service_benefit,\n",
    "  car_rental_benefit = src.car_rental_benefit,\n",
    "  airline_lounge_access_benefit = src.airline_lounge_access_benefit,\n",
    "  dedicated_account_representative = src.dedicated_account_representative,\n",
    "  start_date = src.start_date,\n",
    "  end_date = src.end_date,\n",
    "  is_current = src.is_current,\n",
    "  source_system = src.source_system\n",
    "WHEN NOT MATCHED THEN \n",
    "INSERT(\n",
    "  customer_bk,\n",
    "  name,\n",
    "  user_name,\n",
    "  address,\n",
    "  birth_date,\n",
    "  email,\n",
    "  active_customer,\n",
    "  bronze_tier,\n",
    "  silver_tier,\n",
    "  gold_tier,\n",
    "  platinum_tier,\n",
    "  24_hour_dedicated_line_benefit,\n",
    "  concert_ticket_benefit,\n",
    "  travel_insurance_benefit,\n",
    "  financial_planning_assistance_benefit,\n",
    "  shopping_discounts_benefit,\n",
    "  sports_tickets_benefit,\n",
    "  concierge_service_benefit,\n",
    "  car_rental_benefit,\n",
    "  airline_lounge_access_benefit,\n",
    "  dedicated_account_representative,\n",
    "  start_date,\n",
    "  end_date,\n",
    "  is_current,\n",
    "  source_system\n",
    ")\n",
    "VALUES(\n",
    "  src.customer_bk,\n",
    "  src.name,\n",
    "  src.user_name,\n",
    "  src.address,\n",
    "  src.birth_date,\n",
    "  src.email,\n",
    "  src.active_customer,\n",
    "  src.bronze_tier,\n",
    "  src.silver_tier,\n",
    "  src.gold_tier,\n",
    "  src.platinum_tier,\n",
    "  src.24_hour_dedicated_line_benefit,\n",
    "  src.concert_ticket_benefit,\n",
    "  src.travel_insurance_benefit,\n",
    "  src.financial_planning_assistance_benefit,\n",
    "  src.shopping_discounts_benefit,\n",
    "  src.sports_tickets_benefit,\n",
    "  src.concierge_service_benefit,\n",
    "  src.car_rental_benefit,\n",
    "  src.airline_lounge_access_benefit,\n",
    "  src.dedicated_account_representative,\n",
    "  src.start_date,\n",
    "  src.end_date,\n",
    "  src.is_current,\n",
    "  src.source_system\n",
    ")\n"
   ]
  }
 ],
 "metadata": {
  "application/vnd.databricks.v1+notebook": {
   "dashboards": [],
   "environmentMetadata": null,
   "language": "python",
   "notebookMetadata": {
    "mostRecentlyExecutedCommandWithImplicitDF": {
     "commandId": 4459008291358176,
     "dataframes": [
      "_sqldf"
     ]
    },
    "pythonIndentUnit": 4
   },
   "notebookName": "01- dim_customer",
   "widgets": {}
  }
 },
 "nbformat": 4,
 "nbformat_minor": 0
}
