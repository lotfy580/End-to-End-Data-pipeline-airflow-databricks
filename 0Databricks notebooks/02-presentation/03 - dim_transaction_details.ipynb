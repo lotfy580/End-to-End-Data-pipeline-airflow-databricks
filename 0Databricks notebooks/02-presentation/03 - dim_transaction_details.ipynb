{
 "cells": [
  {
   "cell_type": "code",
   "execution_count": 0,
   "metadata": {
    "application/vnd.databricks.v1+cell": {
     "cellMetadata": {
      "byteLimit": 2048000,
      "rowLimit": 10000
     },
     "inputWidgets": {},
     "nuid": "8d3d1d3e-1f9d-48e6-af97-3dec695006a9",
     "showTitle": false,
     "title": ""
    }
   },
   "outputs": [],
   "source": [
    "from pyspark.sql.functions import lit"
   ]
  },
  {
   "cell_type": "code",
   "execution_count": 0,
   "metadata": {
    "application/vnd.databricks.v1+cell": {
     "cellMetadata": {
      "byteLimit": 2048000,
      "rowLimit": 10000
     },
     "inputWidgets": {},
     "nuid": "3d6d4176-194e-47dc-9929-daca9e4da2aa",
     "showTitle": false,
     "title": ""
    }
   },
   "outputs": [
    {
     "output_type": "display_data",
     "data": {
      "text/html": [
       "<style scoped>\n",
       "  .table-result-container {\n",
       "    max-height: 300px;\n",
       "    overflow: auto;\n",
       "  }\n",
       "  table, th, td {\n",
       "    border: 1px solid black;\n",
       "    border-collapse: collapse;\n",
       "  }\n",
       "  th, td {\n",
       "    padding: 5px;\n",
       "  }\n",
       "  th {\n",
       "    text-align: left;\n",
       "  }\n",
       "</style><div class='table-result-container'><table class='table-result'><thead style='background-color: white'><tr><th>transaction_type</th><th>symbol</th><th>source_system</th></tr></thead><tbody><tr><td>buy</td><td>nflx</td><td>mongoDB_1</td></tr><tr><td>sell</td><td>nflx</td><td>mongoDB_1</td></tr><tr><td>buy</td><td>sap</td><td>mongoDB_1</td></tr><tr><td>sell</td><td>sap</td><td>mongoDB_1</td></tr><tr><td>buy</td><td>znga</td><td>mongoDB_1</td></tr><tr><td>sell</td><td>znga</td><td>mongoDB_1</td></tr><tr><td>buy</td><td>team</td><td>mongoDB_1</td></tr><tr><td>sell</td><td>team</td><td>mongoDB_1</td></tr><tr><td>buy</td><td>amzn</td><td>mongoDB_1</td></tr><tr><td>sell</td><td>amzn</td><td>mongoDB_1</td></tr><tr><td>buy</td><td>crm</td><td>mongoDB_1</td></tr><tr><td>sell</td><td>crm</td><td>mongoDB_1</td></tr><tr><td>buy</td><td>bb</td><td>mongoDB_1</td></tr><tr><td>sell</td><td>bb</td><td>mongoDB_1</td></tr><tr><td>buy</td><td>goog</td><td>mongoDB_1</td></tr><tr><td>sell</td><td>goog</td><td>mongoDB_1</td></tr><tr><td>buy</td><td>amd</td><td>mongoDB_1</td></tr><tr><td>sell</td><td>amd</td><td>mongoDB_1</td></tr><tr><td>buy</td><td>adbe</td><td>mongoDB_1</td></tr><tr><td>sell</td><td>adbe</td><td>mongoDB_1</td></tr><tr><td>buy</td><td>ebay</td><td>mongoDB_1</td></tr><tr><td>sell</td><td>ebay</td><td>mongoDB_1</td></tr><tr><td>buy</td><td>intc</td><td>mongoDB_1</td></tr><tr><td>sell</td><td>intc</td><td>mongoDB_1</td></tr><tr><td>buy</td><td>msft</td><td>mongoDB_1</td></tr><tr><td>sell</td><td>msft</td><td>mongoDB_1</td></tr><tr><td>buy</td><td>csco</td><td>mongoDB_1</td></tr><tr><td>sell</td><td>csco</td><td>mongoDB_1</td></tr><tr><td>buy</td><td>aapl</td><td>mongoDB_1</td></tr><tr><td>sell</td><td>aapl</td><td>mongoDB_1</td></tr><tr><td>buy</td><td>ibm</td><td>mongoDB_1</td></tr><tr><td>sell</td><td>ibm</td><td>mongoDB_1</td></tr><tr><td>buy</td><td>fb</td><td>mongoDB_1</td></tr><tr><td>sell</td><td>fb</td><td>mongoDB_1</td></tr><tr><td>buy</td><td>nvda</td><td>mongoDB_1</td></tr><tr><td>sell</td><td>nvda</td><td>mongoDB_1</td></tr></tbody></table></div>"
      ]
     },
     "metadata": {
      "application/vnd.databricks.v1+output": {
       "addedWidgets": {},
       "aggData": [],
       "aggError": "",
       "aggOverflow": false,
       "aggSchema": [],
       "aggSeriesLimitReached": false,
       "aggType": "",
       "arguments": {},
       "columnCustomDisplayInfos": {},
       "data": [
        [
         "buy",
         "nflx",
         "mongoDB_1"
        ],
        [
         "sell",
         "nflx",
         "mongoDB_1"
        ],
        [
         "buy",
         "sap",
         "mongoDB_1"
        ],
        [
         "sell",
         "sap",
         "mongoDB_1"
        ],
        [
         "buy",
         "znga",
         "mongoDB_1"
        ],
        [
         "sell",
         "znga",
         "mongoDB_1"
        ],
        [
         "buy",
         "team",
         "mongoDB_1"
        ],
        [
         "sell",
         "team",
         "mongoDB_1"
        ],
        [
         "buy",
         "amzn",
         "mongoDB_1"
        ],
        [
         "sell",
         "amzn",
         "mongoDB_1"
        ],
        [
         "buy",
         "crm",
         "mongoDB_1"
        ],
        [
         "sell",
         "crm",
         "mongoDB_1"
        ],
        [
         "buy",
         "bb",
         "mongoDB_1"
        ],
        [
         "sell",
         "bb",
         "mongoDB_1"
        ],
        [
         "buy",
         "goog",
         "mongoDB_1"
        ],
        [
         "sell",
         "goog",
         "mongoDB_1"
        ],
        [
         "buy",
         "amd",
         "mongoDB_1"
        ],
        [
         "sell",
         "amd",
         "mongoDB_1"
        ],
        [
         "buy",
         "adbe",
         "mongoDB_1"
        ],
        [
         "sell",
         "adbe",
         "mongoDB_1"
        ],
        [
         "buy",
         "ebay",
         "mongoDB_1"
        ],
        [
         "sell",
         "ebay",
         "mongoDB_1"
        ],
        [
         "buy",
         "intc",
         "mongoDB_1"
        ],
        [
         "sell",
         "intc",
         "mongoDB_1"
        ],
        [
         "buy",
         "msft",
         "mongoDB_1"
        ],
        [
         "sell",
         "msft",
         "mongoDB_1"
        ],
        [
         "buy",
         "csco",
         "mongoDB_1"
        ],
        [
         "sell",
         "csco",
         "mongoDB_1"
        ],
        [
         "buy",
         "aapl",
         "mongoDB_1"
        ],
        [
         "sell",
         "aapl",
         "mongoDB_1"
        ],
        [
         "buy",
         "ibm",
         "mongoDB_1"
        ],
        [
         "sell",
         "ibm",
         "mongoDB_1"
        ],
        [
         "buy",
         "fb",
         "mongoDB_1"
        ],
        [
         "sell",
         "fb",
         "mongoDB_1"
        ],
        [
         "buy",
         "nvda",
         "mongoDB_1"
        ],
        [
         "sell",
         "nvda",
         "mongoDB_1"
        ]
       ],
       "datasetInfos": [],
       "dbfsResultPath": null,
       "isJsonSchema": true,
       "metadata": {},
       "overflow": false,
       "plotOptions": {
        "customPlotOptions": {},
        "displayType": "table",
        "pivotAggregation": null,
        "pivotColumns": null,
        "xColumns": null,
        "yColumns": null
       },
       "removedWidgets": [],
       "schema": [
        {
         "metadata": "{}",
         "name": "transaction_type",
         "type": "\"string\""
        },
        {
         "metadata": "{}",
         "name": "symbol",
         "type": "\"string\""
        },
        {
         "metadata": "{}",
         "name": "source_system",
         "type": "\"string\""
        }
       ],
       "type": "table"
      }
     },
     "output_type": "display_data"
    }
   ],
   "source": [
    "df_transactions_details = spark.sql(\n",
    "    \"\"\"\n",
    "    SELECT typ.transaction_type, sym.symbol\n",
    "    FROM \n",
    "        (SELECT DISTINCT transaction_type FROM processed.ct.transaction) AS typ \n",
    "        CROSS JOIN\n",
    "        (SELECT DISTINCT symbol FROM processed.ct.transaction) AS sym\n",
    "    \"\"\"\n",
    ")\n",
    "df_final = df_transactions_details.withColumn(\"source_system\", lit('mongoDB_1'))\n",
    "df_final.createOrReplaceTempView(\"source_data\")"
   ]
  },
  {
   "cell_type": "code",
   "execution_count": 0,
   "metadata": {
    "application/vnd.databricks.v1+cell": {
     "cellMetadata": {
      "byteLimit": 2048000,
      "implicitDf": true,
      "rowLimit": 10000
     },
     "inputWidgets": {},
     "nuid": "21f9ef08-f3f1-44a9-9e1a-bac1633aa2c9",
     "showTitle": false,
     "title": ""
    }
   },
   "outputs": [
    {
     "output_type": "display_data",
     "data": {
      "text/html": [
       "<style scoped>\n",
       "  .table-result-container {\n",
       "    max-height: 300px;\n",
       "    overflow: auto;\n",
       "  }\n",
       "  table, th, td {\n",
       "    border: 1px solid black;\n",
       "    border-collapse: collapse;\n",
       "  }\n",
       "  th, td {\n",
       "    padding: 5px;\n",
       "  }\n",
       "  th {\n",
       "    text-align: left;\n",
       "  }\n",
       "</style><div class='table-result-container'><table class='table-result'><thead style='background-color: white'><tr><th>num_affected_rows</th><th>num_updated_rows</th><th>num_deleted_rows</th><th>num_inserted_rows</th></tr></thead><tbody><tr><td>36</td><td>0</td><td>0</td><td>36</td></tr></tbody></table></div>"
      ]
     },
     "metadata": {
      "application/vnd.databricks.v1+output": {
       "addedWidgets": {},
       "aggData": [],
       "aggError": "",
       "aggOverflow": false,
       "aggSchema": [],
       "aggSeriesLimitReached": false,
       "aggType": "",
       "arguments": {},
       "columnCustomDisplayInfos": {},
       "data": [
        [
         36,
         0,
         0,
         36
        ]
       ],
       "datasetInfos": [],
       "dbfsResultPath": null,
       "isJsonSchema": true,
       "metadata": {
        "dataframeName": "_sqldf",
        "executionCount": 10
       },
       "overflow": false,
       "plotOptions": {
        "customPlotOptions": {},
        "displayType": "table",
        "pivotAggregation": null,
        "pivotColumns": null,
        "xColumns": null,
        "yColumns": null
       },
       "removedWidgets": [],
       "schema": [
        {
         "metadata": "{}",
         "name": "num_affected_rows",
         "type": "\"long\""
        },
        {
         "metadata": "{}",
         "name": "num_updated_rows",
         "type": "\"long\""
        },
        {
         "metadata": "{}",
         "name": "num_deleted_rows",
         "type": "\"long\""
        },
        {
         "metadata": "{}",
         "name": "num_inserted_rows",
         "type": "\"long\""
        }
       ],
       "type": "table"
      }
     },
     "output_type": "display_data"
    }
   ],
   "source": [
    "%sql\n",
    "MERGE INTO presentation.ct.dim_transaction_details AS trgt\n",
    "USING source_data AS src\n",
    "ON trgt.transaction_type = src.transaction_type AND\n",
    "   trgt.symbol = src.symbol\n",
    "WHEN MATCHED THEN UPDATE \n",
    "SET \n",
    "  transaction_type = src.transaction_type,\n",
    "  symbol = src.symbol,\n",
    "  source_system = src.source_system\n",
    "WHEN NOT MATCHED THEN\n",
    "INSERT(\n",
    "  transaction_type,\n",
    "  symbol,\n",
    "  source_system\n",
    ")\n",
    "VALUES(\n",
    "  src.transaction_type,\n",
    "  src.symbol,\n",
    "  src.source_system\n",
    ")\n"
   ]
  }
 ],
 "metadata": {
  "application/vnd.databricks.v1+notebook": {
   "dashboards": [],
   "environmentMetadata": null,
   "language": "python",
   "notebookMetadata": {
    "mostRecentlyExecutedCommandWithImplicitDF": {
     "commandId": 2866655772554216,
     "dataframes": [
      "_sqldf"
     ]
    },
    "pythonIndentUnit": 4
   },
   "notebookName": "03 - dim_transaction_details",
   "widgets": {}
  }
 },
 "nbformat": 4,
 "nbformat_minor": 0
}
